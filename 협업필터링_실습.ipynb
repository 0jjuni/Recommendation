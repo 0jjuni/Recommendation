{
 "cells": [
  {
   "cell_type": "markdown",
   "id": "229fcdc2",
   "metadata": {},
   "source": [
    "## 과제 목표\n",
    "1. 코사인 유사도 적용: 유클리드 거리 대신 코사인 유사도를 사용하여 사용자 간의 유사도\n",
    "를 계산하고, 이를 바탕으로 사용자 0에게 영화 추천을 수행합니다.\n",
    "2. 추천 결과 비교: 2가지 방법(유클리드 거리, 코사인 유사도)의 추천 결과를 비교하고 차이\n",
    "를 분석합니다.\n",
    "3. (선택 사항): 수업에서 만들었던 협업 필터링 알고리즘을 더 보완할 방법을 생각해보고, \n",
    "적용해서 결과를 비교해보세요. 개선한 알고리즘은 어떻게 개선했는지 주석으로 남겨주세\n",
    "요"
   ]
  },
  {
   "cell_type": "markdown",
   "id": "53b09ce0",
   "metadata": {},
   "source": [
    "### 세부 지침\n",
    "1. 코사인 유사도 적용\n",
    "    - sklearn.metrics.pairwise 모듈의 cosine_similarity 함수를 사용하여 사용자 간의 코사인 유사도를 계산합니다.\n",
    "    - 코사인 유사도를 사용하여 각 사용자의 k-최근접 이웃을 찾습니다 (k=5 유지).\n",
    "    - 사용자 0에 대해 예측 평점을 계산하고, 상위 5개의 영화를 추천합니다.\n",
    "3. 추천 결과 비교 및 분석\n",
    "    - 각 방법에 따른 추천 목록의 차이를 분석하고, 어떤 방법이 더 나은 결과를 제공하는지에 대해 자신의 의견을 서술합니다.\n",
    "    - 추천된 영화의 다양성, 예상 평점 등을 고려하여 비교합니다"
   ]
  },
  {
   "cell_type": "code",
   "execution_count": 3,
   "id": "4ef87d0e",
   "metadata": {},
   "outputs": [
    {
     "data": {
      "text/plain": [
       "array([[4. , nan, 4. , ..., nan, nan, nan],\n",
       "       [nan, nan, nan, ..., nan, nan, nan],\n",
       "       [nan, nan, nan, ..., nan, nan, nan],\n",
       "       ...,\n",
       "       [2.5, 2. , 2. , ..., nan, nan, nan],\n",
       "       [3. , nan, nan, ..., nan, nan, nan],\n",
       "       [5. , nan, nan, ..., nan, nan, nan]])"
      ]
     },
     "execution_count": 3,
     "metadata": {},
     "output_type": "execute_result"
    }
   ],
   "source": [
    "import pandas as pd\n",
    "import numpy as np\n",
    "\n",
    "ratings = pd.read_csv('data/ratings.csv')\n",
    "df = ratings.pivot_table(index = 'userId', columns = 'movieId', values = 'rating', aggfunc = 'sum').values\n",
    "df"
   ]
  },
  {
   "cell_type": "code",
   "execution_count": 8,
   "id": "2ecc20f1",
   "metadata": {},
   "outputs": [],
   "source": [
    "movies = pd.read_csv('data/movies.csv')\n",
    "movie_names = {}\n",
    "\n",
    "for i in range(len(movies)):\n",
    "    a = movies.iloc[i]\n",
    "    movie_names[a['movieId']] = a['title']"
   ]
  },
  {
   "cell_type": "code",
   "execution_count": 4,
   "id": "74cdf5f3",
   "metadata": {},
   "outputs": [
    {
     "data": {
      "text/plain": [
       "array([[-0.36637931,  0.        , -0.36637931, ...,  0.        ,\n",
       "         0.        ,  0.        ],\n",
       "       [ 0.        ,  0.        ,  0.        , ...,  0.        ,\n",
       "         0.        ,  0.        ],\n",
       "       [ 0.        ,  0.        ,  0.        , ...,  0.        ,\n",
       "         0.        ,  0.        ],\n",
       "       ...,\n",
       "       [-0.63417569, -1.13417569, -1.13417569, ...,  0.        ,\n",
       "         0.        ,  0.        ],\n",
       "       [-0.27027027,  0.        ,  0.        , ...,  0.        ,\n",
       "         0.        ,  0.        ],\n",
       "       [ 1.31144393,  0.        ,  0.        , ...,  0.        ,\n",
       "         0.        ,  0.        ]])"
      ]
     },
     "execution_count": 4,
     "metadata": {},
     "output_type": "execute_result"
    }
   ],
   "source": [
    "nan_mask = np.isnan(df) #누락값 있는 곳 미리 저장\n",
    "\n",
    "df_filled = df.copy()\n",
    "\n",
    "for i in range(len(df_filled)):\n",
    "    mean = np.nanmean(df_filled[i]) #각각의 유저들의 평균값\n",
    "    df_filled[i] = np.nan_to_num(df_filled[i], nan = mean)\n",
    "    df_filled[i] -= mean\n",
    "df_filled"
   ]
  },
  {
   "cell_type": "markdown",
   "id": "ec826606",
   "metadata": {},
   "source": [
    "## 유클리드 거리"
   ]
  },
  {
   "cell_type": "code",
   "execution_count": 5,
   "id": "766e2cd1",
   "metadata": {},
   "outputs": [
    {
     "data": {
      "text/plain": [
       "array([[ 0.        , 12.88018162, 17.71367592, ..., 32.52330461,\n",
       "        12.52374725, 33.10732342],\n",
       "       [12.88018162,  0.        , 13.57431978, ..., 31.40943515,\n",
       "         5.18205377, 31.11334478],\n",
       "       [17.71367592, 13.57431978,  0.        , ..., 33.81269431,\n",
       "        13.1676513 , 33.27108605],\n",
       "       ...,\n",
       "       [32.52330461, 31.40943515, 33.81269431, ...,  0.        ,\n",
       "        31.07357893, 42.64413263],\n",
       "       [12.52374725,  5.18205377, 13.1676513 , ..., 31.07357893,\n",
       "         0.        , 31.07797619],\n",
       "       [33.10732342, 31.11334478, 33.27108605, ..., 42.64413263,\n",
       "        31.07797619,  0.        ]])"
      ]
     },
     "execution_count": 5,
     "metadata": {},
     "output_type": "execute_result"
    }
   ],
   "source": [
    "from sklearn.metrics.pairwise import euclidean_distances\n",
    "\n",
    "#유클리드 거리 계산\n",
    "distance_matrix = euclidean_distances(df_filled)\n",
    "distance_matrix"
   ]
  },
  {
   "cell_type": "code",
   "execution_count": 6,
   "id": "4db1909e",
   "metadata": {},
   "outputs": [
    {
     "data": {
      "text/plain": [
       "array([[ 52,  48, 188, 213, 514],\n",
       "       [ 52, 188,  48, 514,  24],\n",
       "       [ 52,  48, 514, 188,  24],\n",
       "       ...,\n",
       "       [315, 430, 539,  71,  53],\n",
       "       [ 52,  48,  53, 514, 188],\n",
       "       [462, 361, 347, 292, 121]], dtype=int64)"
      ]
     },
     "execution_count": 6,
     "metadata": {},
     "output_type": "execute_result"
    }
   ],
   "source": [
    "# 고려할 이웃의 수\n",
    "k = 5 #다섯명정도만 골라봄.\n",
    "\n",
    "#각 유저별로 가장 거리가 짧았던 5명이 있는 위치\n",
    "nearest_neighbors = np.argsort(distance_matrix, axis = 1)[:, 1:k+1] #자기 자신을 빼고 5명 고려\n",
    "nearest_neighbors"
   ]
  },
  {
   "cell_type": "code",
   "execution_count": 16,
   "id": "73716722",
   "metadata": {
    "scrolled": true
   },
   "outputs": [
    {
     "name": "stdout",
     "output_type": "stream",
     "text": [
      "추천영화 : Jeffrey (1995) (예측평점 : 5.0점)\n",
      "추천영화 : Burnt by the Sun (Utomlyonnye solntsem) (1994) (예측평점 : 5.0점)\n",
      "추천영화 : Virtuosity (1995) (예측평점 : 5.0점)\n",
      "추천영화 : Four Weddings and a Funeral (1994) (예측평점 : 5.0점)\n",
      "추천영화 : Beverly Hillbillies, The (1993) (예측평점 : 5.0점)\n"
     ]
    }
   ],
   "source": [
    "def movie_reco(user):\n",
    "    user_ratings = df[user] #해당 유저의 데이터\n",
    "    user_nan_mask = nan_mask[user] #해당 유저의 누락값이 어디 있는지\n",
    "    neighbor_indices = nearest_neighbors[user] #유저들과 가장 가까운 데이터\n",
    "    unrated_indices = np.where(user_nan_mask)[0] #평가하지 않았던 영화의 인덱스\n",
    "\n",
    "    predictions = {} # 영화 별예측된 평점들을 저장해놓을 장소\n",
    "\n",
    "    for movie_idx in unrated_indices:#평가하지 않은 영화의 인덱스를 하나씩 가져옴\n",
    "        neighbor_ratings = [] #이웃들이 이 영화를 몇점을 평가했는가를 저장\n",
    "        for neighbor_idx in neighbor_indices:\n",
    "            if not (nan_mask[neighbor_idx][movie_idx]):\n",
    "                neighbor_ratings.append(df[neighbor_idx][movie_idx])\n",
    "        if neighbor_ratings != []: #비어있지 않다면\n",
    "            predictions[movie_idx] = np.mean(neighbor_ratings)\n",
    "\n",
    "    #키와 벨류값 묶어서 정렬\n",
    "    sorted_predictions = sorted(predictions.items(), key = lambda i : i[1], reverse =True) \n",
    "    for i in sorted_predictions[:5]:\n",
    "        print(f'추천영화 : {movie_names[i[0]]} (예측평점 : {i[1]}점)')\n",
    "movie_reco(0)"
   ]
  },
  {
   "cell_type": "markdown",
   "id": "42ab0dc8",
   "metadata": {},
   "source": [
    "## 코사인 유사도"
   ]
  },
  {
   "cell_type": "code",
   "execution_count": 17,
   "id": "70e222b4",
   "metadata": {},
   "outputs": [
    {
     "data": {
      "text/plain": [
       "array([[ 1.00000000e+00,  1.26451574e-03,  5.52577176e-04, ...,\n",
       "         7.52238457e-02, -2.57125541e-02,  1.09323166e-02],\n",
       "       [ 1.26451574e-03,  1.00000000e+00,  0.00000000e+00, ...,\n",
       "        -6.00082818e-03, -6.00909967e-02,  2.49992083e-02],\n",
       "       [ 5.52577176e-04,  0.00000000e+00,  1.00000000e+00, ...,\n",
       "        -1.30006374e-02,  0.00000000e+00,  1.95499646e-02],\n",
       "       ...,\n",
       "       [ 7.52238457e-02, -6.00082818e-03, -1.30006374e-02, ...,\n",
       "         1.00000000e+00,  5.07144903e-02,  5.44538770e-02],\n",
       "       [-2.57125541e-02, -6.00909967e-02,  0.00000000e+00, ...,\n",
       "         5.07144903e-02,  1.00000000e+00, -1.24714266e-02],\n",
       "       [ 1.09323166e-02,  2.49992083e-02,  1.95499646e-02, ...,\n",
       "         5.44538770e-02, -1.24714266e-02,  1.00000000e+00]])"
      ]
     },
     "execution_count": 17,
     "metadata": {},
     "output_type": "execute_result"
    }
   ],
   "source": [
    "from sklearn.metrics.pairwise import cosine_similarity\n",
    "\n",
    "#코사인 유사도 계산\n",
    "distance_matrix2 = cosine_similarity(df_filled)\n",
    "distance_matrix2"
   ]
  },
  {
   "cell_type": "code",
   "execution_count": 18,
   "id": "99244dd7",
   "metadata": {},
   "outputs": [
    {
     "data": {
      "text/plain": [
       "array([[500, 369,  70, 394, 556],\n",
       "       [510,  53, 549, 211, 169],\n",
       "       [313, 182,  59,  83, 172],\n",
       "       ...,\n",
       "       [425, 516, 415, 597,   9],\n",
       "       [207, 172,  48, 209, 394],\n",
       "       [147, 550, 172,  46,  42]], dtype=int64)"
      ]
     },
     "execution_count": 18,
     "metadata": {},
     "output_type": "execute_result"
    }
   ],
   "source": [
    "# 고려할 이웃의 수\n",
    "k = 5 #다섯명정도만 골라봄.\n",
    "\n",
    "#각 유저별로 가장 거리가 짧았던 5명이 있는 위치\n",
    "nearest_neighbors2 = np.argsort(distance_matrix2, axis = 1)[:, 1:k+1] #자기 자신을 빼고 5명 고려\n",
    "nearest_neighbors2"
   ]
  },
  {
   "cell_type": "code",
   "execution_count": 51,
   "id": "d1be7977",
   "metadata": {},
   "outputs": [
    {
     "name": "stdout",
     "output_type": "stream",
     "text": [
      "추천영화 : Sense and Sensibility (1995) (예측평점 : 5.0점)\n",
      "추천영화 : Anne Frank Remembered (1995) (예측평점 : 5.0점)\n",
      "추천영화: 630 이름 미상 (예측평점 : 5.0점)\n",
      "추천영화 : Emma (1996) (예측평점 : 5.0점)\n",
      "추천영화 : To Gillian on Her 37th Birthday (1996) (예측평점 : 5.0점)\n"
     ]
    }
   ],
   "source": [
    "def movie_reco2(user):\n",
    "    user_ratings = df[user] #해당 유저의 데이터\n",
    "    user_nan_mask = nan_mask[user] #해당 유저의 누락값이 어디 있는지\n",
    "    neighbor_indices = nearest_neighbors2[user] #유저들과 가장 가까운 데이터\n",
    "    unrated_indices = np.where(user_nan_mask)[0] #평가하지 않았던 영화의 인덱스\n",
    "\n",
    "    predictions = {} # 영화 별예측된 평점들을 저장해놓을 장소\n",
    "\n",
    "    for movie_idx in unrated_indices:#평가하지 않은 영화의 인덱스를 하나씩 가져옴\n",
    "        neighbor_ratings = [] #이웃들이 이 영화를 몇점을 평가했는가를 저장\n",
    "        for neighbor_idx in neighbor_indices:\n",
    "            if not (nan_mask[neighbor_idx][movie_idx]):\n",
    "                neighbor_ratings.append(df[neighbor_idx][movie_idx])\n",
    "        if neighbor_ratings != []: #비어있지 않다면\n",
    "            predictions[movie_idx] = np.mean(neighbor_ratings)\n",
    "\n",
    "    #키와 벨류값 묶어서 정렬\n",
    "    sorted_predictions = sorted(predictions.items(), key = lambda i : i[1], reverse =True) \n",
    "    for i in sorted_predictions[:5]:\n",
    "        if i[0] in movie_names.keys():\n",
    "            print(f'추천영화 : {movie_names[i[0]]} (예측평점 : {i[1]}점)')\n",
    "        else:\n",
    "            print(f\"추천영화: {i[0]} 이름 미상 (예측평점 : {i[1]}점)\")\n",
    "    \n",
    "movie_reco2(0)"
   ]
  },
  {
   "cell_type": "markdown",
   "id": "72142e23",
   "metadata": {},
   "source": [
    "#### 유클리드는 상대적 차이에 민감, 코사인 유사도의 경우에는 평점의 크기보다는 평점의 패턴에 집중 \n",
    "#### 즉, 서로다른 것을 추천하는 것으로 보임."
   ]
  },
  {
   "cell_type": "markdown",
   "id": "4d0a2d52",
   "metadata": {},
   "source": [
    "# 둘을 섞는다면?"
   ]
  },
  {
   "cell_type": "code",
   "execution_count": 56,
   "id": "f19fc7e1",
   "metadata": {},
   "outputs": [
    {
     "data": {
      "text/plain": [
       "array([[500, 369,  70,  38, 410],\n",
       "       [413, 304,  62, 211, 351],\n",
       "       [435, 367, 313,  83, 605],\n",
       "       ...,\n",
       "       [425, 516,   9, 415, 597],\n",
       "       [272, 209, 186,  88, 159],\n",
       "       [147, 550, 172,  46, 364]], dtype=int64)"
      ]
     },
     "execution_count": 56,
     "metadata": {},
     "output_type": "execute_result"
    }
   ],
   "source": [
    "enu = 1 / (1 + distance_matrix) #유클리드 역수\n",
    "\n",
    "hybrid = 0.5 * enu + 0.5 * distance_matrix2\n",
    "\n",
    "# 고려할 이웃의 수\n",
    "k = 5 #다섯명정도만 골라봄.\n",
    "\n",
    "#각 유저별로 가장 거리가 짧았던 5명이 있는 위치\n",
    "nearest_neighbors3 = np.argsort(hybrid, axis = 1)[:, 1:k+1] #자기 자신을 빼고 5명 고려\n",
    "nearest_neighbors3"
   ]
  },
  {
   "cell_type": "code",
   "execution_count": 58,
   "id": "aeb55132",
   "metadata": {},
   "outputs": [
    {
     "name": "stdout",
     "output_type": "stream",
     "text": [
      "추천영화 : Sense and Sensibility (1995) (예측평점 : 5.0점)\n",
      "추천영화 : Anne Frank Remembered (1995) (예측평점 : 5.0점)\n",
      "추천영화 : Chungking Express (Chung Hing sam lam) (1994) (예측평점 : 5.0점)\n",
      "추천영화 : Wild Bill (1995) (예측평점 : 5.0점)\n",
      "추천영화: 443 이름 미상 (예측평점 : 5.0점)\n"
     ]
    }
   ],
   "source": [
    "def movie_reco_hybrid(user):\n",
    "    user_ratings = df[user] #해당 유저의 데이터\n",
    "    user_nan_mask = nan_mask[user] #해당 유저의 누락값이 어디 있는지\n",
    "    neighbor_indices = nearest_neighbors3[user] #유저들과 가장 가까운 데이터\n",
    "    unrated_indices = np.where(user_nan_mask)[0] #평가하지 않았던 영화의 인덱스\n",
    "\n",
    "    predictions = {} # 영화 별예측된 평점들을 저장해놓을 장소\n",
    "\n",
    "    for movie_idx in unrated_indices:#평가하지 않은 영화의 인덱스를 하나씩 가져옴\n",
    "        neighbor_ratings = [] #이웃들이 이 영화를 몇점을 평가했는가를 저장\n",
    "        for neighbor_idx in neighbor_indices:\n",
    "            if not (nan_mask[neighbor_idx][movie_idx]):\n",
    "                neighbor_ratings.append(df[neighbor_idx][movie_idx])\n",
    "        if neighbor_ratings != []: #비어있지 않다면\n",
    "            predictions[movie_idx] = np.mean(neighbor_ratings)\n",
    "\n",
    "    #키와 벨류값 묶어서 정렬\n",
    "    sorted_predictions = sorted(predictions.items(), key = lambda i : i[1], reverse =True) \n",
    "    for i in sorted_predictions[:5]:\n",
    "        if i[0] in movie_names.keys():\n",
    "            print(f'추천영화 : {movie_names[i[0]]} (예측평점 : {i[1]}점)')\n",
    "        else:\n",
    "            print(f\"추천영화: {i[0]} 이름 미상 (예측평점 : {i[1]}점)\")\n",
    "    \n",
    "movie_reco_hybrid(0)"
   ]
  },
  {
   "cell_type": "markdown",
   "id": "87c929d3",
   "metadata": {},
   "source": [
    "# 이웃이 3명이상인 것만 추출"
   ]
  },
  {
   "cell_type": "code",
   "execution_count": 66,
   "id": "799058cd",
   "metadata": {},
   "outputs": [
    {
     "name": "stdout",
     "output_type": "stream",
     "text": [
      "[4.0, 3.0, 3.0]\n",
      "[3.0, 4.0, 5.0]\n",
      "[4.0, 3.0, 4.0, 3.0]\n",
      "추천영화 : Georgia (1995) (예측평점 : 4.0점)\n",
      "추천영화 : Perfect World, A (1993) (예측평점 : 3.5점)\n",
      "추천영화 : Heat (1995) (예측평점 : 3.3333333333333335점)\n"
     ]
    }
   ],
   "source": [
    "def movie_reco_hybrid_3(user):\n",
    "    user_ratings = df[user] #해당 유저의 데이터\n",
    "    user_nan_mask = nan_mask[user] #해당 유저의 누락값이 어디 있는지\n",
    "    neighbor_indices = nearest_neighbors3[user] #유저들과 가장 가까운 데이터\n",
    "    unrated_indices = np.where(user_nan_mask)[0] #평가하지 않았던 영화의 인덱스\n",
    "\n",
    "    predictions = {} # 영화 별예측된 평점들을 저장해놓을 장소\n",
    "\n",
    "    for movie_idx in unrated_indices:#평가하지 않은 영화의 인덱스를 하나씩 가져옴\n",
    "        neighbor_ratings = [] #이웃들이 이 영화를 몇점을 평가했는가를 저장\n",
    "        for neighbor_idx in neighbor_indices:\n",
    "            if not (nan_mask[neighbor_idx][movie_idx]):\n",
    "                neighbor_ratings.append(df[neighbor_idx][movie_idx])\n",
    "        if len(neighbor_ratings) >=3 : #비어있지 않다면\n",
    "            print(neighbor_ratings)\n",
    "            predictions[movie_idx] = np.mean(neighbor_ratings)\n",
    "\n",
    "    #키와 벨류값 묶어서 정렬\n",
    "    sorted_predictions = sorted(predictions.items(), key = lambda i : i[1], reverse =True) \n",
    "    for i in sorted_predictions[:5]:\n",
    "        if i[0] in movie_names.keys():\n",
    "            print(f'추천영화 : {movie_names[i[0]]} (예측평점 : {i[1]}점)')\n",
    "        else:\n",
    "            print(f\"추천영화: {i[0]} 이름 미상 (예측평점 : {i[1]}점)\")\n",
    "    \n",
    "movie_reco_hybrid_3(0)"
   ]
  },
  {
   "cell_type": "markdown",
   "id": "429887d3",
   "metadata": {},
   "source": [
    "## 둘의 교집합을 구한다면?"
   ]
  },
  {
   "cell_type": "code",
   "execution_count": 77,
   "id": "a63a6206",
   "metadata": {},
   "outputs": [],
   "source": [
    "def reco_enu(user):\n",
    "    user_ratings = df[user] #해당 유저의 데이터\n",
    "    user_nan_mask = nan_mask[user] #해당 유저의 누락값이 어디 있는지\n",
    "    neighbor_indices = nearest_neighbors[user] #유저들과 가장 가까운 데이터\n",
    "    unrated_indices = np.where(user_nan_mask)[0] #평가하지 않았던 영화의 인덱스\n",
    "\n",
    "    predictions = {} # 영화 별예측된 평점들을 저장해놓을 장소\n",
    "\n",
    "    for movie_idx in unrated_indices:#평가하지 않은 영화의 인덱스를 하나씩 가져옴\n",
    "        neighbor_ratings = [] #이웃들이 이 영화를 몇점을 평가했는가를 저장\n",
    "        for neighbor_idx in neighbor_indices:\n",
    "            if not (nan_mask[neighbor_idx][movie_idx]):\n",
    "                neighbor_ratings.append(df[neighbor_idx][movie_idx])\n",
    "        if len(neighbor_ratings) >=2: #비어있지 않다면\n",
    "            predictions[movie_idx] = np.mean(neighbor_ratings)\n",
    "\n",
    "    #키와 벨류값 묶어서 정렬\n",
    "    sorted_predictions = sorted(predictions.items(), key = lambda i : i[1], reverse =True) \n",
    "    for i in sorted_predictions:\n",
    "        if i[0] in movie_names.keys():\n",
    "            print(f'추천영화 : {movie_names[i[0]]} (예측평점 : {i[1]}점)')\n",
    "        else:\n",
    "            print(f\"추천영화: {i[0]} 이름 미상 (예측평점 : {i[1]}점)\")\n",
    "            \n",
    "    return sorted_predictions"
   ]
  },
  {
   "cell_type": "code",
   "execution_count": 78,
   "id": "a4d00367",
   "metadata": {},
   "outputs": [],
   "source": [
    "def reco_cos(user):\n",
    "    user_ratings = df[user] #해당 유저의 데이터\n",
    "    user_nan_mask = nan_mask[user] #해당 유저의 누락값이 어디 있는지\n",
    "    neighbor_indices = nearest_neighbors2[user] #유저들과 가장 가까운 데이터\n",
    "    unrated_indices = np.where(user_nan_mask)[0] #평가하지 않았던 영화의 인덱스\n",
    "\n",
    "    predictions = {} # 영화 별예측된 평점들을 저장해놓을 장소\n",
    "\n",
    "    for movie_idx in unrated_indices:#평가하지 않은 영화의 인덱스를 하나씩 가져옴\n",
    "        neighbor_ratings = [] #이웃들이 이 영화를 몇점을 평가했는가를 저장\n",
    "        for neighbor_idx in neighbor_indices:\n",
    "            if not (nan_mask[neighbor_idx][movie_idx]):\n",
    "                neighbor_ratings.append(df[neighbor_idx][movie_idx])\n",
    "        if neighbor_ratings != []: #비어있지 않다면\n",
    "            predictions[movie_idx] = np.mean(neighbor_ratings)\n",
    "\n",
    "    #키와 벨류값 묶어서 정렬\n",
    "    sorted_predictions = sorted(predictions.items(), key = lambda i : i[1], reverse =True) \n",
    "    for i in sorted_predictions:\n",
    "        if i[0] in movie_names.keys():\n",
    "            print(f'추천영화 : {movie_names[i[0]]} (예측평점 : {i[1]}점)')\n",
    "        else:\n",
    "            print(f\"추천영화: {i[0]} 이름 미상 (예측평점 : {i[1]}점)\")\n",
    "    \n",
    "    return sorted_predictions"
   ]
  },
  {
   "cell_type": "code",
   "execution_count": 85,
   "id": "314694bc",
   "metadata": {},
   "outputs": [
    {
     "name": "stdout",
     "output_type": "stream",
     "text": [
      "추천영화: 6693 이름 미상 (예측평점 : 5.0점)\n",
      "추천영화: 9445 이름 미상 (예측평점 : 4.75점)\n",
      "추천영화: 7355 이름 미상 (예측평점 : 4.666666666666667점)\n",
      "추천영화 : Malibu's Most Wanted (2003) (예측평점 : 4.5점)\n",
      "추천영화 : Miracle on 34th Street (1994) (예측평점 : 4.333333333333333점)\n",
      "추천영화 : Empire (2002) (예측평점 : 4.25점)\n",
      "추천영화: 7750 이름 미상 (예측평점 : 4.25점)\n",
      "추천영화 : Sense and Sensibility (1995) (예측평점 : 5.0점)\n",
      "추천영화 : Anne Frank Remembered (1995) (예측평점 : 5.0점)\n",
      "추천영화: 630 이름 미상 (예측평점 : 5.0점)\n",
      "추천영화 : Emma (1996) (예측평점 : 5.0점)\n",
      "추천영화 : To Gillian on Her 37th Birthday (1996) (예측평점 : 5.0점)\n",
      "추천영화 : Chungking Express (Chung Hing sam lam) (1994) (예측평점 : 4.5점)\n",
      "추천영화 : Jane Eyre (1996) (예측평점 : 4.5점)\n",
      "추천영화: 793 이름 미상 (예측평점 : 4.5점)\n",
      "추천영화: 1134 이름 미상 (예측평점 : 4.5점)\n",
      "추천영화 : Annie Hall (1977) (예측평점 : 4.5점)\n",
      "추천영화 : Journey of Natty Gann, The (1985) (예측평점 : 4.5점)\n",
      "추천영화 : Idiots, The (Idioterne) (1998) (예측평점 : 4.5점)\n",
      "추천영화 : Road Trip (2000) (예측평점 : 4.5점)\n",
      "추천영화 : On Her Majesty's Secret Service (1969) (예측평점 : 4.5점)\n",
      "추천영화 : Little Nicky (2000) (예측평점 : 4.5점)\n",
      "추천영화 : Making Mr. Right (1987) (예측평점 : 4.5점)\n",
      "추천영화: 4755 이름 미상 (예측평점 : 4.5점)\n",
      "추천영화: 4791 이름 미상 (예측평점 : 4.5점)\n",
      "추천영화: 138 이름 미상 (예측평점 : 4.333333333333333점)\n",
      "추천영화 : My Dog Skip (1999) (예측평점 : 4.25점)\n",
      "추천영화 : Nico Icon (1995) (예측평점 : 4.0점)\n",
      "추천영화 : Brothers McMullen, The (1995) (예측평점 : 4.0점)\n",
      "추천영화 : Bad Boys (1995) (예측평점 : 4.0점)\n",
      "추천영화 : Miracle on 34th Street (1994) (예측평점 : 4.0점)\n",
      "추천영화: 297 이름 미상 (예측평점 : 4.0점)\n",
      "추천영화 : Queen Margot (Reine Margot, La) (1994) (예측평점 : 4.0점)\n",
      "추천영화 : To Live (Huozhe) (1994) (예측평점 : 4.0점)\n",
      "추천영화 : Firm, The (1993) (예측평점 : 4.0점)\n",
      "추천영화 : Free Willy (1993) (예측평점 : 4.0점)\n",
      "추천영화 : Ref, The (1994) (예측평점 : 4.0점)\n",
      "추천영화 : Romper Stomper (1992) (예측평점 : 4.0점)\n",
      "추천영화: 545 이름 미상 (예측평점 : 4.0점)\n",
      "추천영화: 607 이름 미상 (예측평점 : 4.0점)\n",
      "추천영화: 622 이름 미상 (예측평점 : 4.0점)\n",
      "추천영화: 629 이름 미상 (예측평점 : 4.0점)\n",
      "추천영화 : Denise Calls Up (1995) (예측평점 : 4.0점)\n",
      "추천영화 : Cold Fever (Á köldum klaka) (1995) (예측평점 : 4.0점)\n",
      "추천영화: 658 이름 미상 (예측평점 : 4.0점)\n",
      "추천영화: 983 이름 미상 (예측평점 : 4.0점)\n",
      "추천영화 : Fly Away Home (1996) (예측평점 : 4.0점)\n",
      "추천영화: 1052 이름 미상 (예측평점 : 4.0점)\n",
      "추천영화: 1444 이름 미상 (예측평점 : 4.0점)\n",
      "추천영화 : Nightmare on Elm Street 5: The Dream Child, A (1989) (예측평점 : 4.0점)\n",
      "추천영화: 2601 이름 미상 (예측평점 : 4.0점)\n",
      "추천영화 : Rawhead Rex (1986) (예측평점 : 4.0점)\n",
      "추천영화 : Jennifer 8 (1992) (예측평점 : 4.0점)\n",
      "추천영화: 4421 이름 미상 (예측평점 : 4.0점)\n",
      "추천영화: 4607 이름 미상 (예측평점 : 4.0점)\n",
      "추천영화 : Out Cold (2001) (예측평점 : 4.0점)\n",
      "추천영화 : Stir Crazy (1980) (예측평점 : 4.0점)\n",
      "추천영화 : New Guy, The (2002) (예측평점 : 4.0점)\n",
      "추천영화 : Believer, The (2001) (예측평점 : 4.0점)\n",
      "추천영화: 5834 이름 미상 (예측평점 : 4.0점)\n",
      "추천영화 : Heavy Metal 2000 (2000) (예측평점 : 4.0점)\n",
      "추천영화: 6134 이름 미상 (예측평점 : 4.0점)\n",
      "추천영화: 6136 이름 미상 (예측평점 : 4.0점)\n",
      "추천영화 : Bubba Ho-tep (2002) (예측평점 : 4.0점)\n",
      "추천영화 : Sudden Death (1995) (예측평점 : 3.8333333333333335점)\n",
      "추천영화: 84 이름 미상 (예측평점 : 3.6666666666666665점)\n",
      "추천영화 : Heat (1995) (예측평점 : 3.5점)\n",
      "추천영화: 35 이름 미상 (예측평점 : 3.5점)\n",
      "추천영화 : Georgia (1995) (예측평점 : 3.5점)\n",
      "추천영화: 133 이름 미상 (예측평점 : 3.5점)\n",
      "추천영화 : Living in Oblivion (1995) (예측평점 : 3.5점)\n",
      "추천영화 : Babysitter, The (1995) (예측평점 : 3.5점)\n",
      "추천영화 : Jefferson in Paris (1995) (예측평점 : 3.5점)\n",
      "추천영화 : What's Eating Gilbert Grape (1993) (예측평점 : 3.5점)\n",
      "추천영화 : Carlito's Way (1993) (예측평점 : 3.5점)\n",
      "추천영화 : In the Line of Fire (1993) (예측평점 : 3.5점)\n",
      "추천영화: 957 이름 미상 (예측평점 : 3.5점)\n",
      "추천영화 : Better Off Dead... (1985) (예측평점 : 3.5점)\n",
      "추천영화 : Some Kind of Wonderful (1987) (예측평점 : 3.5점)\n",
      "추천영화 : Love Jones (1997) (예측평점 : 3.5점)\n",
      "추천영화: 1796 이름 미상 (예측평점 : 3.5점)\n",
      "추천영화 : Best Years of Our Lives, The (1946) (예측평점 : 3.5점)\n",
      "추천영화 : Untouchables, The (1987) (예측평점 : 3.5점)\n",
      "추천영화 : Life Is Beautiful (La Vita è bella) (1997) (예측평점 : 3.5점)\n",
      "추천영화 : Fever Pitch (1997) (예측평점 : 3.5점)\n",
      "추천영화: 3136 이름 미상 (예측평점 : 3.5점)\n",
      "추천영화 : Down to Earth (2001) (예측평점 : 3.5점)\n",
      "추천영화 : Anniversary Party, The (2001) (예측평점 : 3.5점)\n",
      "추천영화 : Unlawful Entry (1992) (예측평점 : 3.5점)\n",
      "추천영화 : Everybody's Famous! (Iedereen beroemd!) (2000) (예측평점 : 3.5점)\n",
      "추천영화: 5190 이름 미상 (예측평점 : 3.5점)\n",
      "추천영화 : Miami Blues (1990) (예측평점 : 3.5점)\n",
      "추천영화 : Resident Evil: Apocalypse (2004) (예측평점 : 3.5점)\n",
      "추천영화 : Perfect World, A (1993) (예측평점 : 3.3333333333333335점)\n",
      "추천영화 : Heidi Fleiss: Hollywood Madam (1995) (예측평점 : 3.25점)\n",
      "추천영화 : Toy Story (1995) (예측평점 : 3.0점)\n",
      "추천영화 : Waiting to Exhale (1995) (예측평점 : 3.0점)\n",
      "추천영화 : Sabrina (1995) (예측평점 : 3.0점)\n",
      "추천영화 : GoldenEye (1995) (예측평점 : 3.0점)\n",
      "추천영화 : Cutthroat Island (1995) (예측평점 : 3.0점)\n",
      "추천영화 : Money Train (1995) (예측평점 : 3.0점)\n",
      "추천영화 : Othello (1995) (예측평점 : 3.0점)\n",
      "추천영화 : Dangerous Minds (1995) (예측평점 : 3.0점)\n",
      "추천영화 : Twelve Monkeys (a.k.a. 12 Monkeys) (1995) (예측평점 : 3.0점)\n",
      "추천영화: 33 이름 미상 (예측평점 : 3.0점)\n",
      "추천영화 : Richard III (1995) (예측평점 : 3.0점)\n",
      "추천영화 : Lamerica (1994) (예측평점 : 3.0점)\n",
      "추천영화 : Big Green, The (1995) (예측평점 : 3.0점)\n",
      "추천영화 : Antonia's Line (Antonia) (1995) (예측평점 : 3.0점)\n",
      "추천영화: 91 이름 미상 (예측평점 : 3.0점)\n",
      "추천영화: 131 이름 미상 (예측평점 : 3.0점)\n",
      "추천영화 : Up Close and Personal (1996) (예측평점 : 3.0점)\n",
      "추천영화 : Castle Freak (1995) (예측평점 : 3.0점)\n",
      "추천영화 : Milk Money (1994) (예측평점 : 3.0점)\n",
      "추천영화 : Nina Takes a Lover (1994) (예측평점 : 3.0점)\n",
      "추천영화 : Swan Princess, The (1994) (예측평점 : 3.0점)\n",
      "추천영화 : Swimming with Sharks (1995) (예측평점 : 3.0점)\n",
      "추천영화 : Village of the Damned (1995) (예측평점 : 3.0점)\n",
      "추천영화 : Vanya on 42nd Street (1994) (예측평점 : 3.0점)\n",
      "추천영화 : Flintstones, The (1994) (예측평점 : 3.0점)\n",
      "추천영화 : Lion King, The (1994) (예측평점 : 3.0점)\n",
      "추천영화 : Little Buddha (1993) (예측평점 : 3.0점)\n",
      "추천영화 : Wyatt Earp (1994) (예측평점 : 3.0점)\n",
      "추천영화: 404 이름 미상 (예측평점 : 3.0점)\n",
      "추천영화 : Cowboy Way, The (1994) (예측평점 : 3.0점)\n",
      "추천영화 : No Escape (1994) (예측평점 : 3.0점)\n",
      "추천영화 : Puppet Masters, The (1994) (예측평점 : 3.0점)\n",
      "추천영화 : Romeo Is Bleeding (1993) (예측평점 : 3.0점)\n",
      "추천영화 : Schindler's List (1993) (예측평점 : 3.0점)\n",
      "추천영화 : Shadow, The (1994) (예측평점 : 3.0점)\n",
      "추천영화 : Sliver (1993) (예측평점 : 3.0점)\n",
      "추천영화 : Three Musketeers, The (1993) (예측평점 : 3.0점)\n",
      "추천영화: 578 이름 미상 (예측평점 : 3.0점)\n",
      "추천영화 : Eddie (1996) (예측평점 : 3.0점)\n",
      "추천영화 : Striptease (1996) (예측평점 : 3.0점)\n",
      "추천영화 : Independence Day (a.k.a. ID4) (1996) (예측평점 : 3.0점)\n",
      "추천영화 : Cable Guy, The (1996) (예측평점 : 3.0점)\n",
      "추천영화 : Mina Tannenbaum (1994) (예측평점 : 3.0점)\n",
      "추천영화: 2994 이름 미상 (예측평점 : 3.0점)\n",
      "추천영화 : Antitrust (2001) (예측평점 : 3.0점)\n",
      "추천영화: 4631 이름 미상 (예측평점 : 3.0점)\n",
      "추천영화 : Empire (2002) (예측평점 : 3.0점)\n",
      "추천영화 : Amen. (2002) (예측평점 : 3.0점)\n",
      "추천영화: 576 이름 미상 (예측평점 : 2.5점)\n",
      "추천영화 : Simpatico (1999) (예측평점 : 2.5점)\n",
      "추천영화 : Casino (1995) (예측평점 : 2.0점)\n",
      "추천영화 : Assassins (1995) (예측평점 : 2.0점)\n",
      "추천영화 : Powder (1995) (예측평점 : 2.0점)\n",
      "추천영화 : Mortal Kombat (1995) (예측평점 : 2.0점)\n",
      "추천영화 : Bio-Dome (1996) (예측평점 : 2.0점)\n",
      "추천영화: 109 이름 미상 (예측평점 : 2.0점)\n",
      "추천영화 : Before and After (1996) (예측평점 : 2.0점)\n",
      "추천영화 : Blink (1994) (예측평점 : 2.0점)\n",
      "추천영화 : Orlando (1992) (예측평점 : 2.0점)\n",
      "추천영화 : Butch Cassidy and the Sundance Kid (1969) (예측평점 : 2.0점)\n",
      "추천영화 : Relative Fear (1994) (예측평점 : 1.5점)\n",
      "추천영화 : Nixon (1995) (예측평점 : 1.0점)\n",
      "추천영화 : Ace Ventura: When Nature Calls (1995) (예측평점 : 1.0점)\n",
      "추천영화 : Batman Forever (1995) (예측평점 : 1.0점)\n",
      "추천영화: 396 이름 미상 (예측평점 : 1.0점)\n",
      "추천영화 : Black Beauty (1994) (예측평점 : 1.0점)\n",
      "추천영화 : Space Cowboys (2000) (예측평점 : 1.0점)\n"
     ]
    }
   ],
   "source": [
    "enu_re = reco_enu(0)\n",
    "cos_re = reco_cos(0)"
   ]
  },
  {
   "cell_type": "code",
   "execution_count": 83,
   "id": "1bc8e9a7",
   "metadata": {},
   "outputs": [
    {
     "data": {
      "text/plain": [
       "[(6693, 5.0),\n",
       " (9445, 4.75),\n",
       " (7355, 4.666666666666667),\n",
       " (6298, 4.5),\n",
       " (277, 4.333333333333333),\n",
       " (5901, 4.25),\n",
       " (7750, 4.25)]"
      ]
     },
     "execution_count": 83,
     "metadata": {},
     "output_type": "execute_result"
    }
   ],
   "source": [
    "enu_re"
   ]
  },
  {
   "cell_type": "code",
   "execution_count": 86,
   "id": "31b39906",
   "metadata": {},
   "outputs": [
    {
     "data": {
      "text/plain": [
       "[(17, 5.0),\n",
       " (116, 5.0),\n",
       " (630, 5.0),\n",
       " (838, 5.0),\n",
       " (1043, 5.0),\n",
       " (123, 4.5),\n",
       " (613, 4.5),\n",
       " (793, 4.5),\n",
       " (1134, 4.5),\n",
       " (1230, 4.5),\n",
       " (2077, 4.5),\n",
       " (3569, 4.5),\n",
       " (3617, 4.5),\n",
       " (3633, 4.5),\n",
       " (3979, 4.5),\n",
       " (4131, 4.5),\n",
       " (4755, 4.5),\n",
       " (4791, 4.5),\n",
       " (138, 4.333333333333333),\n",
       " (3189, 4.25),\n",
       " (77, 4.0),\n",
       " (144, 4.0),\n",
       " (145, 4.0),\n",
       " (277, 4.0),\n",
       " (297, 4.0),\n",
       " (302, 4.0),\n",
       " (326, 4.0),\n",
       " (454, 4.0),\n",
       " (455, 4.0),\n",
       " (514, 4.0),\n",
       " (522, 4.0),\n",
       " (545, 4.0),\n",
       " (607, 4.0),\n",
       " (622, 4.0),\n",
       " (629, 4.0),\n",
       " (633, 4.0),\n",
       " (649, 4.0),\n",
       " (658, 4.0),\n",
       " (983, 4.0),\n",
       " (986, 4.0),\n",
       " (1052, 4.0),\n",
       " (1444, 4.0),\n",
       " (1972, 4.0),\n",
       " (2601, 4.0),\n",
       " (2992, 4.0),\n",
       " (3557, 4.0),\n",
       " (4421, 4.0),\n",
       " (4607, 4.0),\n",
       " (4900, 4.0),\n",
       " (5250, 4.0),\n",
       " (5363, 4.0),\n",
       " (5379, 4.0),\n",
       " (5834, 4.0),\n",
       " (5999, 4.0),\n",
       " (6134, 4.0),\n",
       " (6136, 4.0),\n",
       " (6755, 4.0),\n",
       " (9, 3.8333333333333335),\n",
       " (84, 3.6666666666666665),\n",
       " (6, 3.5),\n",
       " (35, 3.5),\n",
       " (55, 3.5),\n",
       " (133, 3.5),\n",
       " (176, 3.5),\n",
       " (217, 3.5),\n",
       " (254, 3.5),\n",
       " (337, 3.5),\n",
       " (431, 3.5),\n",
       " (474, 3.5),\n",
       " (957, 3.5),\n",
       " (1257, 3.5),\n",
       " (1290, 3.5),\n",
       " (1477, 3.5),\n",
       " (1796, 3.5),\n",
       " (1939, 3.5),\n",
       " (2194, 3.5),\n",
       " (2324, 3.5),\n",
       " (2962, 3.5),\n",
       " (3136, 3.5),\n",
       " (4153, 3.5),\n",
       " (4345, 3.5),\n",
       " (4354, 3.5),\n",
       " (4926, 3.5),\n",
       " (5190, 3.5),\n",
       " (5968, 3.5),\n",
       " (8861, 3.5),\n",
       " (507, 3.3333333333333335),\n",
       " (99, 3.25),\n",
       " (1, 3.0),\n",
       " (4, 3.0),\n",
       " (7, 3.0),\n",
       " (10, 3.0),\n",
       " (15, 3.0),\n",
       " (20, 3.0),\n",
       " (26, 3.0),\n",
       " (31, 3.0),\n",
       " (32, 3.0),\n",
       " (33, 3.0),\n",
       " (41, 3.0),\n",
       " (53, 3.0),\n",
       " (54, 3.0),\n",
       " (82, 3.0),\n",
       " (91, 3.0),\n",
       " (131, 3.0),\n",
       " (140, 3.0),\n",
       " (220, 3.0),\n",
       " (276, 3.0),\n",
       " (287, 3.0),\n",
       " (313, 3.0),\n",
       " (322, 3.0),\n",
       " (332, 3.0),\n",
       " (334, 3.0),\n",
       " (355, 3.0),\n",
       " (364, 3.0),\n",
       " (365, 3.0),\n",
       " (383, 3.0),\n",
       " (404, 3.0),\n",
       " (438, 3.0),\n",
       " (504, 3.0),\n",
       " (512, 3.0),\n",
       " (521, 3.0),\n",
       " (527, 3.0),\n",
       " (533, 3.0),\n",
       " (540, 3.0),\n",
       " (552, 3.0),\n",
       " (578, 3.0),\n",
       " (656, 3.0),\n",
       " (762, 3.0),\n",
       " (780, 3.0),\n",
       " (784, 3.0),\n",
       " (1163, 3.0),\n",
       " (2994, 3.0),\n",
       " (4052, 3.0),\n",
       " (4631, 3.0),\n",
       " (5901, 3.0),\n",
       " (6041, 3.0),\n",
       " (576, 2.5),\n",
       " (3162, 2.5),\n",
       " (16, 2.0),\n",
       " (23, 2.0),\n",
       " (24, 2.0),\n",
       " (44, 2.0),\n",
       " (65, 2.0),\n",
       " (109, 2.0),\n",
       " (113, 2.0),\n",
       " (422, 2.0),\n",
       " (506, 2.0),\n",
       " (1304, 2.0),\n",
       " (311, 1.5),\n",
       " (14, 1.0),\n",
       " (19, 1.0),\n",
       " (153, 1.0),\n",
       " (396, 1.0),\n",
       " (421, 1.0),\n",
       " (3827, 1.0)]"
      ]
     },
     "execution_count": 86,
     "metadata": {},
     "output_type": "execute_result"
    }
   ],
   "source": [
    "cos_re"
   ]
  },
  {
   "cell_type": "code",
   "execution_count": 88,
   "id": "ea74285d",
   "metadata": {},
   "outputs": [],
   "source": [
    "left_values_list1 = set([item[0] for item in enu_re])\n",
    "left_values_list2 = set([item[0] for item in cos_re])\n",
    "\n",
    "\n",
    "intersection = left_values_list1.intersection(left_values_list2)"
   ]
  },
  {
   "cell_type": "code",
   "execution_count": 90,
   "id": "cb168de2",
   "metadata": {},
   "outputs": [
    {
     "name": "stdout",
     "output_type": "stream",
     "text": [
      "277\n",
      "5901\n"
     ]
    }
   ],
   "source": [
    "for i in intersection:\n",
    "    print(i)"
   ]
  },
  {
   "cell_type": "code",
   "execution_count": null,
   "id": "04d8ba96",
   "metadata": {},
   "outputs": [],
   "source": []
  }
 ],
 "metadata": {
  "kernelspec": {
   "display_name": "Python 3 (ipykernel)",
   "language": "python",
   "name": "python3"
  },
  "language_info": {
   "codemirror_mode": {
    "name": "ipython",
    "version": 3
   },
   "file_extension": ".py",
   "mimetype": "text/x-python",
   "name": "python",
   "nbconvert_exporter": "python",
   "pygments_lexer": "ipython3",
   "version": "3.11.5"
  }
 },
 "nbformat": 4,
 "nbformat_minor": 5
}
