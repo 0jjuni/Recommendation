{
 "cells": [
  {
   "cell_type": "markdown",
   "id": "2fad935e36e519e4",
   "metadata": {},
   "source": [
    "## 유클리드 거리"
   ]
  },
  {
   "cell_type": "code",
   "execution_count": 3,
   "id": "initial_id",
   "metadata": {
    "ExecuteTime": {
     "end_time": "2024-10-01T00:21:43.333472Z",
     "start_time": "2024-10-01T00:21:43.328401Z"
    }
   },
   "outputs": [
    {
     "data": {
      "text/plain": [
       "4.795831523312719"
      ]
     },
     "execution_count": 3,
     "metadata": {},
     "output_type": "execute_result"
    }
   ],
   "source": [
    "import numpy as np\n",
    "user1 = np.array([0, 1, 2, 3, 4, 5])\n",
    "user2 = np.array([0, 1, 4, 6, 1, 4])\n",
    "\n",
    "# 유클리드 거리 : 거리가 짧을수록 유사하다.\n",
    "sum((user1 - user2) ** 2) ** (1/2) #두 벡터 사이의 거리"
   ]
  },
  {
   "cell_type": "markdown",
   "id": "1ecc50292e16c92",
   "metadata": {},
   "source": [
    "## 코사인 유사도"
   ]
  },
  {
   "cell_type": "code",
   "execution_count": 6,
   "id": "e8cb7996e019b3d",
   "metadata": {
    "ExecuteTime": {
     "end_time": "2024-10-01T00:20:54.183122Z",
     "start_time": "2024-10-01T00:20:54.179448Z"
    }
   },
   "outputs": [],
   "source": [
    "import numpy as np\n",
    "\n",
    "user1 = np.array([4, 5, 3, 2, 1])\n",
    "user2 = np.array([3, 2, 4, 2, 2])"
   ]
  },
  {
   "cell_type": "code",
   "execution_count": 14,
   "id": "3dcf2022448d4c8c",
   "metadata": {
    "ExecuteTime": {
     "end_time": "2024-10-01T00:23:44.525252Z",
     "start_time": "2024-10-01T00:23:44.520916Z"
    }
   },
   "outputs": [
    {
     "name": "stdout",
     "output_type": "stream",
     "text": [
      "51\n",
      "62.048368229954285\n",
      "0.8219394233058879\n"
     ]
    }
   ],
   "source": [
    "a = sum(user1 * user2) #분자\n",
    "print(a)\n",
    "\n",
    "b = (sum(user1 ** 2) ** (1/2)) * (sum(user2 ** 2) ** (1/2)) #분모\n",
    "print(b)\n",
    "\n",
    "result = a / b\n",
    "print(result)"
   ]
  },
  {
   "cell_type": "markdown",
   "id": "8535588b4830dbbd",
   "metadata": {},
   "source": [
    "## PPT 데이터 이용"
   ]
  },
  {
   "cell_type": "code",
   "execution_count": 21,
   "id": "1f6f45bde7fba513",
   "metadata": {
    "ExecuteTime": {
     "end_time": "2024-10-01T00:37:22.638526Z",
     "start_time": "2024-10-01T00:37:22.633080Z"
    }
   },
   "outputs": [
    {
     "data": {
      "text/plain": [
       "49"
      ]
     },
     "execution_count": 21,
     "metadata": {},
     "output_type": "execute_result"
    }
   ],
   "source": [
    "import numpy as np\n",
    "\n",
    "A = np.array([\n",
    "    [3, 3, 2, 3, 1],\n",
    "    [5, 2, 2, 3, 1],\n",
    "    [3, 3, 2, 3, 1],\n",
    "    [3, 1, 4, 3, 1],\n",
    "])\n",
    "np.sum(A) #누락값이 있으면 계산 불가능\n",
    "np.nansum(A) #누락값이 있어도 계산 가능"
   ]
  },
  {
   "cell_type": "code",
   "execution_count": 24,
   "id": "6298b220095bc82e",
   "metadata": {
    "ExecuteTime": {
     "end_time": "2024-10-01T00:38:56.979266Z",
     "start_time": "2024-10-01T00:38:56.973767Z"
    }
   },
   "outputs": [
    {
     "data": {
      "text/plain": [
       "array([[4., 1., 5., 0., 1.],\n",
       "       [2., 3., 0., 2., 3.],\n",
       "       [1., 0., 4., 1., 3.],\n",
       "       [0., 2., 4., 0., 2.],\n",
       "       [1., 0., 4., 1., 3.]])"
      ]
     },
     "execution_count": 24,
     "metadata": {},
     "output_type": "execute_result"
    }
   ],
   "source": [
    "A = np.array([[4,1,5,np.nan,1],\n",
    "     [2,3,np.nan,2,3],\n",
    "     [1,np.nan,4,1,3],\n",
    "     [np.nan,2,4,np.nan,2],\n",
    "     [1,np.nan,4,1,3]])\n",
    "\n",
    "#누랄 값 0으로 채우기\n",
    "np.nan_to_num(A, nan = 0)"
   ]
  },
  {
   "cell_type": "code",
   "execution_count": 29,
   "id": "b70bbe5d1d0d253f",
   "metadata": {
    "ExecuteTime": {
     "end_time": "2024-10-01T00:43:13.915950Z",
     "start_time": "2024-10-01T00:43:13.910997Z"
    }
   },
   "outputs": [
    {
     "data": {
      "text/plain": [
       "array([[ 1.25      , -1.75      ,  2.25      ,  0.        , -1.75      ],\n",
       "       [-0.5       ,  0.5       ,  0.        , -0.5       ,  0.5       ],\n",
       "       [-1.25      ,  0.        ,  1.75      , -1.25      ,  0.75      ],\n",
       "       [ 0.        , -0.66666667,  1.33333333,  0.        , -0.66666667],\n",
       "       [-1.25      ,  0.        ,  1.75      , -1.25      ,  0.75      ]])"
      ]
     },
     "execution_count": 29,
     "metadata": {},
     "output_type": "execute_result"
    }
   ],
   "source": [
    "# 유저별 평균으로 채우기\n",
    "A_copy =  A.copy()\n",
    "\n",
    "for i in range(len(A_copy)):\n",
    "    mean = np.nanmean(A_copy[i])\n",
    "    A_copy[i] = np.nan_to_num(A_copy[i], nan = mean)\n",
    "    A_copy[i] = A_copy[i] - mean # Mean Normalization으로 누락값 채우기\n",
    "\n",
    "\n",
    "A_copy"
   ]
  },
  {
   "cell_type": "markdown",
   "id": "4efbc012be522e8f",
   "metadata": {},
   "source": [
    "## 데이터 사용"
   ]
  },
  {
   "cell_type": "code",
   "execution_count": 1,
   "id": "1b03f124bd7be5b0",
   "metadata": {
    "ExecuteTime": {
     "end_time": "2024-10-01T01:02:50.159689Z",
     "start_time": "2024-10-01T01:02:50.013679Z"
    }
   },
   "outputs": [
    {
     "data": {
      "text/plain": [
       "array([[4. , nan, 4. , ..., nan, nan, nan],\n",
       "       [nan, nan, nan, ..., nan, nan, nan],\n",
       "       [nan, nan, nan, ..., nan, nan, nan],\n",
       "       ...,\n",
       "       [2.5, 2. , 2. , ..., nan, nan, nan],\n",
       "       [3. , nan, nan, ..., nan, nan, nan],\n",
       "       [5. , nan, nan, ..., nan, nan, nan]])"
      ]
     },
     "execution_count": 1,
     "metadata": {},
     "output_type": "execute_result"
    }
   ],
   "source": [
    "import pandas as pd\n",
    "\n",
    "ratings = pd.read_csv('data/ratings.csv')\n",
    "df = ratings.pivot_table(index = 'userId', columns = 'movieId', values = 'rating', aggfunc = 'sum').values\n",
    "df"
   ]
  },
  {
   "cell_type": "code",
   "execution_count": 9,
   "id": "dc3ee2ef6334168b",
   "metadata": {},
   "outputs": [
    {
     "data": {
      "text/plain": [
       "array([[-0.36637931,  0.        , -0.36637931, ...,  0.        ,\n",
       "         0.        ,  0.        ],\n",
       "       [ 0.        ,  0.        ,  0.        , ...,  0.        ,\n",
       "         0.        ,  0.        ],\n",
       "       [ 0.        ,  0.        ,  0.        , ...,  0.        ,\n",
       "         0.        ,  0.        ],\n",
       "       ...,\n",
       "       [-0.63417569, -1.13417569, -1.13417569, ...,  0.        ,\n",
       "         0.        ,  0.        ],\n",
       "       [-0.27027027,  0.        ,  0.        , ...,  0.        ,\n",
       "         0.        ,  0.        ],\n",
       "       [ 1.31144393,  0.        ,  0.        , ...,  0.        ,\n",
       "         0.        ,  0.        ]])"
      ]
     },
     "execution_count": 9,
     "metadata": {},
     "output_type": "execute_result"
    }
   ],
   "source": [
    "nan_mask = np.isnan(df) #누락값 있는 곳 미리 저장\n",
    "\n",
    "df_filled = df.copy()\n",
    "\n",
    "for i in range(len(df_filled)):\n",
    "    mean = np.nanmean(df_filled[i]) #각각의 유저들의 평균값\n",
    "    df_filled[i] = np.nan_to_num(df_filled[i], nan = mean)\n",
    "    df_filled[i] -= mean\n",
    "df_filled"
   ]
  },
  {
   "cell_type": "code",
   "execution_count": 12,
   "id": "030f39db",
   "metadata": {},
   "outputs": [
    {
     "data": {
      "text/plain": [
       "array([[ 0.        , 12.88018162, 17.71367592, ..., 32.52330461,\n",
       "        12.52374725, 33.10732342],\n",
       "       [12.88018162,  0.        , 13.57431978, ..., 31.40943515,\n",
       "         5.18205377, 31.11334478],\n",
       "       [17.71367592, 13.57431978,  0.        , ..., 33.81269431,\n",
       "        13.1676513 , 33.27108605],\n",
       "       ...,\n",
       "       [32.52330461, 31.40943515, 33.81269431, ...,  0.        ,\n",
       "        31.07357893, 42.64413263],\n",
       "       [12.52374725,  5.18205377, 13.1676513 , ..., 31.07357893,\n",
       "         0.        , 31.07797619],\n",
       "       [33.10732342, 31.11334478, 33.27108605, ..., 42.64413263,\n",
       "        31.07797619,  0.        ]])"
      ]
     },
     "execution_count": 12,
     "metadata": {},
     "output_type": "execute_result"
    }
   ],
   "source": [
    "from sklearn.metrics.pairwise import euclidean_distances\n",
    "\n",
    "#유클리드 거리 계산\n",
    "distance_matrix = euclidean_distances(df_filled)\n",
    "distance_matrix"
   ]
  },
  {
   "cell_type": "code",
   "execution_count": 15,
   "id": "5048a40e",
   "metadata": {},
   "outputs": [
    {
     "data": {
      "text/plain": [
       "array([[ 52,  48, 188, 213, 514],\n",
       "       [ 52, 188,  48, 514,  24],\n",
       "       [ 52,  48, 514, 188,  24],\n",
       "       ...,\n",
       "       [315, 430, 539,  71,  53],\n",
       "       [ 52,  48,  53, 514, 188],\n",
       "       [462, 361, 347, 292, 121]], dtype=int64)"
      ]
     },
     "execution_count": 15,
     "metadata": {},
     "output_type": "execute_result"
    }
   ],
   "source": [
    "# 고려할 이웃의 수\n",
    "k = 5 #다섯명정도만 골라봄.\n",
    "\n",
    "#각 유저별로 가장 거리가 짧았던 5명이 있는 위치\n",
    "nearest_neighbors = np.argsort(distance_matrix, axis = 1)[:, 1:k+1] #자기 자신을 빼고 5명 고려\n",
    "nearest_neighbors"
   ]
  },
  {
   "cell_type": "code",
   "execution_count": 39,
   "id": "1cc36a74",
   "metadata": {},
   "outputs": [],
   "source": [
    "movies = pd.read_csv('data/movies.csv')\n",
    "movie_names = {} #영화이름 저장\n",
    "\n",
    "for i in range(len(movies)):\n",
    "    a = movies.iloc[i]\n",
    "    movie_names[a['movieId']] = a['title']"
   ]
  },
  {
   "cell_type": "code",
   "execution_count": 52,
   "id": "16ecbc34",
   "metadata": {},
   "outputs": [
    {
     "name": "stdout",
     "output_type": "stream",
     "text": [
      "추천영화 : Jeffrey (1995) (예측평점 : 5.0점)\n",
      "추천영화 : Burnt by the Sun (Utomlyonnye solntsem) (1994) (예측평점 : 5.0점)\n",
      "추천영화 : Virtuosity (1995) (예측평점 : 5.0점)\n"
     ]
    }
   ],
   "source": [
    "# 0번째 사람의 영화를 추천할 예정\n",
    "user = 0\n",
    "user_ratings = df[user] #해당 유저의 데이터\n",
    "user_nan_mask = nan_mask[user] #해당 유저의 누락값이 어디 있는지\n",
    "neighbor_indices = nearest_neighbors[user] #유저들과 가장 가까운 데이터\n",
    "unrated_indices = np.where(user_nan_mask)[0] #평가하지 않았던 영화의 인덱스\n",
    "\n",
    "predictions = {} # 영화 별예측된 평점들을 저장해놓을 장소\n",
    "\n",
    "for movie_idx in unrated_indices:#평가하지 않은 영화의 인덱스를 하나씩 가져옴\n",
    "    neighbor_ratings = [] #이웃들이 이 영화를 몇점을 평가했는가를 저장\n",
    "    for neighbor_idx in neighbor_indices:\n",
    "        if not (nan_mask[neighbor_idx][movie_idx]):\n",
    "            neighbor_ratings.append(df[neighbor_idx][movie_idx])\n",
    "    if neighbor_ratings != []: #비어있지 않다면\n",
    "        predictions[movie_idx] = np.mean(neighbor_ratings)\n",
    "\n",
    "#키와 벨류값 묶어서 정렬\n",
    "sorted_predictions = sorted(predictions.items(), key = lambda i : i[1], reverse =True) \n",
    "for i in sorted_predictions[:3]:\n",
    "    print(f'추천영화 : {movie_names[i[0]]} (예측평점 : {i[1]}점)')"
   ]
  },
  {
   "cell_type": "code",
   "execution_count": 55,
   "id": "9c1ff243",
   "metadata": {},
   "outputs": [
    {
     "name": "stdout",
     "output_type": "stream",
     "text": [
      "추천영화 : Jeffrey (1995) (예측평점 : 5.0점)\n",
      "추천영화 : Burnt by the Sun (Utomlyonnye solntsem) (1994) (예측평점 : 5.0점)\n",
      "추천영화 : Virtuosity (1995) (예측평점 : 5.0점)\n"
     ]
    }
   ],
   "source": [
    "def movie_reco(user):\n",
    "    user_ratings = df[user] #해당 유저의 데이터\n",
    "    user_nan_mask = nan_mask[user] #해당 유저의 누락값이 어디 있는지\n",
    "    neighbor_indices = nearest_neighbors[user] #유저들과 가장 가까운 데이터\n",
    "    unrated_indices = np.where(user_nan_mask)[0] #평가하지 않았던 영화의 인덱스\n",
    "\n",
    "    predictions = {} # 영화 별예측된 평점들을 저장해놓을 장소\n",
    "\n",
    "    for movie_idx in unrated_indices:#평가하지 않은 영화의 인덱스를 하나씩 가져옴\n",
    "        neighbor_ratings = [] #이웃들이 이 영화를 몇점을 평가했는가를 저장\n",
    "        for neighbor_idx in neighbor_indices:\n",
    "            if not (nan_mask[neighbor_idx][movie_idx]):\n",
    "                neighbor_ratings.append(df[neighbor_idx][movie_idx])\n",
    "        if neighbor_ratings != []: #비어있지 않다면\n",
    "            predictions[movie_idx] = np.mean(neighbor_ratings)\n",
    "\n",
    "    #키와 벨류값 묶어서 정렬\n",
    "    sorted_predictions = sorted(predictions.items(), key = lambda i : i[1], reverse =True) \n",
    "    for i in sorted_predictions[:3]:\n",
    "        print(f'추천영화 : {movie_names[i[0]]} (예측평점 : {i[1]}점)')\n",
    "movie_reco(0)"
   ]
  },
  {
   "cell_type": "code",
   "execution_count": 59,
   "id": "8ea70294",
   "metadata": {},
   "outputs": [],
   "source": [
    "box = [[1,2], [3,1], [5,7], [10, 0]]\n",
    "\n",
    "def func1(x):\n",
    "    return x[0]"
   ]
  },
  {
   "cell_type": "code",
   "execution_count": 60,
   "id": "ac0cc646",
   "metadata": {},
   "outputs": [
    {
     "data": {
      "text/plain": [
       "[[1, 2], [3, 1], [5, 7], [10, 0]]"
      ]
     },
     "execution_count": 60,
     "metadata": {},
     "output_type": "execute_result"
    }
   ],
   "source": [
    "box.sort(key = func1)\n",
    "box"
   ]
  },
  {
   "cell_type": "code",
   "execution_count": 61,
   "id": "107b245e",
   "metadata": {},
   "outputs": [
    {
     "data": {
      "text/plain": [
       "[[10, 0], [3, 1], [1, 2], [5, 7]]"
      ]
     },
     "execution_count": 61,
     "metadata": {},
     "output_type": "execute_result"
    }
   ],
   "source": [
    "box.sort(key = lambda x : x[1])\n",
    "box"
   ]
  },
  {
   "cell_type": "code",
   "execution_count": 62,
   "id": "c0fed94f",
   "metadata": {},
   "outputs": [],
   "source": [
    "func1 = lambda x : x[1]"
   ]
  },
  {
   "cell_type": "code",
   "execution_count": 63,
   "id": "52d3c5e7",
   "metadata": {},
   "outputs": [
    {
     "data": {
      "text/plain": [
       "2"
      ]
     },
     "execution_count": 63,
     "metadata": {},
     "output_type": "execute_result"
    }
   ],
   "source": [
    "func1([1,2])"
   ]
  },
  {
   "cell_type": "code",
   "execution_count": null,
   "id": "d06aa1d0",
   "metadata": {},
   "outputs": [],
   "source": []
  }
 ],
 "metadata": {
  "kernelspec": {
   "display_name": "Python 3 (ipykernel)",
   "language": "python",
   "name": "python3"
  },
  "language_info": {
   "codemirror_mode": {
    "name": "ipython",
    "version": 3
   },
   "file_extension": ".py",
   "mimetype": "text/x-python",
   "name": "python",
   "nbconvert_exporter": "python",
   "pygments_lexer": "ipython3",
   "version": "3.11.5"
  }
 },
 "nbformat": 4,
 "nbformat_minor": 5
}
